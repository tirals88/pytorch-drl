{
  "nbformat": 4,
  "nbformat_minor": 0,
  "metadata": {
    "colab": {
      "provenance": [],
      "authorship_tag": "ABX9TyP38sxuWvXn2weEvLZb36Fg",
      "include_colab_link": true
    },
    "kernelspec": {
      "name": "python3",
      "display_name": "Python 3"
    },
    "language_info": {
      "name": "python"
    }
  },
  "cells": [
    {
      "cell_type": "markdown",
      "metadata": {
        "id": "view-in-github",
        "colab_type": "text"
      },
      "source": [
        "<a href=\"https://colab.research.google.com/github/tirals88/pytorch-drl/blob/main/DRL_Chap5_Deep_Q_network.ipynb\" target=\"_parent\"><img src=\"https://colab.research.google.com/assets/colab-badge.svg\" alt=\"Open In Colab\"/></a>"
      ]
    },
    {
      "cell_type": "markdown",
      "source": [
        "## 5.1. 딥러닝을 적용한 Q 러닝\n",
        "\n",
        "### 표형식 표현의 문제점\n",
        "\n",
        "표형식 표현을 사용하는 $Q$러닝의 문제점은 상태변수의 종류가 늘어나거나 각 변수를 이산변수로 변환할 때 구간을 세세하게 분할하거나 하면 표의 행 수가 크게 늘어난다는 점이다. 예를 들어 이미지를 상태로 받는다면 상태변수는 이미지의 각 픽셀이 될 것이다.\n",
        "\n",
        "행 수가 많은 표형식 표현으로 제대로 강화학습을 진행하려면 에피소드 수가 매우 많이 필요하다. 이 때문에 상태 수가 많은 태스크는 표형식 표현으로는 제대로 학습시키기가 현실적으로 어렵다.\n",
        "\n",
        "딥러닝은 이러한 ***상태변수 수가 많아지면 표형식 표현으로는 강화학습이 어렵다***는 문제를 해결하기 위한 것이다.\n",
        "\n",
        "### 심층강화학습 알고리즘 DQN\n",
        "\n",
        "상태변수가 많은 태스크에 강화학습을 적용하기 위해 행동가치 함수를 표형식으로 나타내는 대신 층 수가 많은 신경망으로 바꾸어 나타낸다.\n",
        "\n",
        "각 상태변수의 값을 신경망의 입력으로 삼으며 신경망의 입력층이 갖는 유닛 수는 상태변수의 수와 같다. 역진자 태스크를 예로 들면, 상태는 위치 속도 각도 각속도 4개의 변수이므로 입력 유닛은 4개가 된다.\n",
        "\n",
        "***신경망에 상태변수를 입력할 때는 이산변수로 변환하는 과정이 필요없다.*** (세세한 구간을 요구하는 것이 아닌 pointwise 하게 변수로 받아들여질 수 있다.)\n",
        "\n",
        "출력층의 유닛 수는 행동의 가짓수와 같다. 역진자 태스크에서는 좌/우로 미는 행동 두 가지 이다.\n",
        "\n",
        "출력층 유닛의"
      ],
      "metadata": {
        "id": "aaupWY6jmMck"
      }
    },
    {
      "cell_type": "code",
      "execution_count": null,
      "metadata": {
        "id": "RuA8JwGTmL99"
      },
      "outputs": [],
      "source": []
    }
  ]
}